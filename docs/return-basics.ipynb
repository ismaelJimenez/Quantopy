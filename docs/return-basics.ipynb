{
 "metadata": {
  "language_info": {
   "codemirror_mode": {
    "name": "ipython",
    "version": 3
   },
   "file_extension": ".py",
   "mimetype": "text/x-python",
   "name": "python",
   "nbconvert_exporter": "python",
   "pygments_lexer": "ipython3",
   "version": "3.8.3"
  },
  "orig_nbformat": 2,
  "kernelspec": {
   "name": "python383jvsc74a57bd0084b7c34d0ace65d645ac1cf38a84a38cb997dc3ccb350be36823b5fce063004",
   "display_name": "Python 3.8.3 64-bit ('quantopy-dev': conda)"
  },
  "metadata": {
   "interpreter": {
    "hash": "084b7c34d0ace65d645ac1cf38a84a38cb997dc3ccb350be36823b5fce063004"
   }
  }
 },
 "nbformat": 4,
 "nbformat_minor": 2,
 "cells": [
  {
   "cell_type": "code",
   "execution_count": 1,
   "metadata": {},
   "outputs": [],
   "source": [
    "import numpy as np\n",
    "import pandas as pd\n",
    "\n",
    "import quantopy as qp"
   ]
  },
  {
   "cell_type": "code",
   "execution_count": 2,
   "metadata": {},
   "outputs": [],
   "source": [
    "#np.random.seed(100)\n",
    "\n",
    "# Generate price for 2 stocks\n",
    "#stock_1_price = qp.simulate.stock_price(0.05, 0.03, 10)\n",
    "#stock_2_price = qp.simulate.stock_price(0.05, 0.10, 10)"
   ]
  },
  {
   "cell_type": "code",
   "execution_count": 3,
   "metadata": {},
   "outputs": [],
   "source": [
    "#prices = pd.DataFrame({\n",
    "#    'stock_1': stock_1_price,\n",
    "#    'stock_2': stock_2_price\n",
    "#})\n",
    "\n",
    "#prices.head()"
   ]
  },
  {
   "cell_type": "code",
   "execution_count": 4,
   "metadata": {},
   "outputs": [],
   "source": [
    "#prices.plot(title='Stock Prices')"
   ]
  },
  {
   "cell_type": "code",
   "execution_count": 2,
   "metadata": {},
   "outputs": [
    {
     "output_type": "execute_result",
     "data": {
      "text/plain": [
       "          0         1\n",
       "0  0.033983  0.039343\n",
       "1  0.027309 -0.224671\n",
       "2  0.073853  0.003019\n",
       "3  0.044466  0.220078\n",
       "4  0.106890  0.063065"
      ],
      "text/html": "<div>\n<style scoped>\n    .dataframe tbody tr th:only-of-type {\n        vertical-align: middle;\n    }\n\n    .dataframe tbody tr th {\n        vertical-align: top;\n    }\n\n    .dataframe thead th {\n        text-align: right;\n    }\n</style>\n<table border=\"1\" class=\"dataframe\">\n  <thead>\n    <tr style=\"text-align: right;\">\n      <th></th>\n      <th>0</th>\n      <th>1</th>\n    </tr>\n  </thead>\n  <tbody>\n    <tr>\n      <th>0</th>\n      <td>0.033983</td>\n      <td>0.039343</td>\n    </tr>\n    <tr>\n      <th>1</th>\n      <td>0.027309</td>\n      <td>-0.224671</td>\n    </tr>\n    <tr>\n      <th>2</th>\n      <td>0.073853</td>\n      <td>0.003019</td>\n    </tr>\n    <tr>\n      <th>3</th>\n      <td>0.044466</td>\n      <td>0.220078</td>\n    </tr>\n    <tr>\n      <th>4</th>\n      <td>0.106890</td>\n      <td>0.063065</td>\n    </tr>\n  </tbody>\n</table>\n</div>"
     },
     "metadata": {},
     "execution_count": 2
    }
   ],
   "source": [
    "mu = [0.05, 0.05]\n",
    "sigma = [0.03, 0.10]\n",
    "rs = qp.random.generator.returns(mu, sigma, (1000, 2))\n",
    "rs.columns = ['stock_1', 'stock_2']\n",
    "\n",
    "rs.head()"
   ]
  },
  {
   "cell_type": "code",
   "execution_count": 7,
   "metadata": {},
   "outputs": [
    {
     "output_type": "execute_result",
     "data": {
      "text/plain": [
       "<AxesSubplot:title={'center':'Stock Returns'}>"
      ]
     },
     "metadata": {},
     "execution_count": 7
    },
    {
     "output_type": "stream",
     "name": "stdout",
     "text": [
      "Error in callback <function flush_figures at 0x000000000AC5A9D0> (for post_execute):\n",
      "ERROR:root:Internal Python error in the inspect module.\n",
      "Below is the traceback from this internal error.\n",
      "\n",
      "Traceback (most recent call last):\n",
      "  File \"C:\\Users\\o27470398\\Anaconda3\\envs\\quantopy-dev\\lib\\site-packages\\IPython\\core\\events.py\", line 89, in trigger\n",
      "    func(*args, **kwargs)\n",
      "  File \"C:\\Users\\o27470398\\Anaconda3\\envs\\quantopy-dev\\lib\\site-packages\\ipykernel\\pylab\\backend_inline.py\", line 120, in flush_figures\n",
      "    return show(True)\n",
      "  File \"C:\\Users\\o27470398\\Anaconda3\\envs\\quantopy-dev\\lib\\site-packages\\ipykernel\\pylab\\backend_inline.py\", line 40, in show\n",
      "    display(\n",
      "  File \"C:\\Users\\o27470398\\Anaconda3\\envs\\quantopy-dev\\lib\\site-packages\\IPython\\core\\display.py\", line 320, in display\n",
      "    format_dict, md_dict = format(obj, include=include, exclude=exclude)\n",
      "  File \"C:\\Users\\o27470398\\Anaconda3\\envs\\quantopy-dev\\lib\\site-packages\\IPython\\core\\formatters.py\", line 180, in format\n",
      "    data = formatter(obj)\n",
      "  File \"C:\\Users\\o27470398\\Anaconda3\\envs\\quantopy-dev\\lib\\site-packages\\decorator.py\", line 232, in fun\n",
      "    return caller(func, *(extras + args), **kw)\n",
      "  File \"C:\\Users\\o27470398\\Anaconda3\\envs\\quantopy-dev\\lib\\site-packages\\IPython\\core\\formatters.py\", line 224, in catch_format_error\n",
      "    r = method(self, *args, **kwargs)\n",
      "  File \"C:\\Users\\o27470398\\Anaconda3\\envs\\quantopy-dev\\lib\\site-packages\\IPython\\core\\formatters.py\", line 341, in __call__\n",
      "    return printer(obj)\n",
      "  File \"C:\\Users\\o27470398\\Anaconda3\\envs\\quantopy-dev\\lib\\site-packages\\IPython\\core\\pylabtools.py\", line 256, in <lambda>\n",
      "    svg_formatter.for_type(Figure, lambda fig: print_figure(fig, 'svg', **kwargs))\n",
      "  File \"C:\\Users\\o27470398\\Anaconda3\\envs\\quantopy-dev\\lib\\site-packages\\IPython\\core\\pylabtools.py\", line 134, in print_figure\n",
      "    fig.canvas.print_figure(bytes_io, **kw)\n",
      "  File \"C:\\Users\\o27470398\\Anaconda3\\envs\\quantopy-dev\\lib\\site-packages\\matplotlib\\backend_bases.py\", line 2255, in print_figure\n",
      "    result = print_method(\n",
      "  File \"C:\\Users\\o27470398\\Anaconda3\\envs\\quantopy-dev\\lib\\site-packages\\matplotlib\\backends\\backend_svg.py\", line 1333, in print_svg\n",
      "    self._print_svg(filename, fh, **kwargs)\n",
      "  File \"C:\\Users\\o27470398\\Anaconda3\\envs\\quantopy-dev\\lib\\site-packages\\matplotlib\\backend_bases.py\", line 1669, in wrapper\n",
      "    return func(*args, **kwargs)\n",
      "  File \"C:\\Users\\o27470398\\Anaconda3\\envs\\quantopy-dev\\lib\\site-packages\\matplotlib\\_api\\deprecation.py\", line 431, in wrapper\n",
      "    return func(*inner_args, **inner_kwargs)\n",
      "  File \"C:\\Users\\o27470398\\Anaconda3\\envs\\quantopy-dev\\lib\\site-packages\\matplotlib\\backends\\backend_svg.py\", line 1360, in _print_svg\n",
      "    self.figure.draw(renderer)\n",
      "  File \"C:\\Users\\o27470398\\Anaconda3\\envs\\quantopy-dev\\lib\\site-packages\\matplotlib\\artist.py\", line 74, in draw_wrapper\n",
      "    result = draw(artist, renderer, *args, **kwargs)\n",
      "  File \"C:\\Users\\o27470398\\Anaconda3\\envs\\quantopy-dev\\lib\\site-packages\\matplotlib\\artist.py\", line 51, in draw_wrapper\n",
      "    return draw(artist, renderer, *args, **kwargs)\n",
      "  File \"C:\\Users\\o27470398\\Anaconda3\\envs\\quantopy-dev\\lib\\site-packages\\matplotlib\\figure.py\", line 2780, in draw\n",
      "    mimage._draw_list_compositing_images(\n",
      "  File \"C:\\Users\\o27470398\\Anaconda3\\envs\\quantopy-dev\\lib\\site-packages\\matplotlib\\image.py\", line 132, in _draw_list_compositing_images\n",
      "    a.draw(renderer)\n",
      "  File \"C:\\Users\\o27470398\\Anaconda3\\envs\\quantopy-dev\\lib\\site-packages\\matplotlib\\artist.py\", line 51, in draw_wrapper\n",
      "    return draw(artist, renderer, *args, **kwargs)\n",
      "  File \"C:\\Users\\o27470398\\Anaconda3\\envs\\quantopy-dev\\lib\\site-packages\\matplotlib\\_api\\deprecation.py\", line 431, in wrapper\n",
      "    return func(*inner_args, **inner_kwargs)\n",
      "  File \"C:\\Users\\o27470398\\Anaconda3\\envs\\quantopy-dev\\lib\\site-packages\\matplotlib\\axes\\_base.py\", line 2921, in draw\n",
      "    mimage._draw_list_compositing_images(renderer, self, artists)\n",
      "  File \"C:\\Users\\o27470398\\Anaconda3\\envs\\quantopy-dev\\lib\\site-packages\\matplotlib\\image.py\", line 132, in _draw_list_compositing_images\n",
      "    a.draw(renderer)\n",
      "  File \"C:\\Users\\o27470398\\Anaconda3\\envs\\quantopy-dev\\lib\\site-packages\\matplotlib\\artist.py\", line 51, in draw_wrapper\n",
      "    return draw(artist, renderer, *args, **kwargs)\n",
      "  File \"C:\\Users\\o27470398\\Anaconda3\\envs\\quantopy-dev\\lib\\site-packages\\matplotlib\\axis.py\", line 1137, in draw\n",
      "    ticklabelBoxes, ticklabelBoxes2 = self._get_tick_bboxes(ticks_to_draw,\n",
      "  File \"C:\\Users\\o27470398\\Anaconda3\\envs\\quantopy-dev\\lib\\site-packages\\matplotlib\\axis.py\", line 1063, in _get_tick_bboxes\n",
      "    return ([tick.label1.get_window_extent(renderer)\n",
      "  File \"C:\\Users\\o27470398\\Anaconda3\\envs\\quantopy-dev\\lib\\site-packages\\matplotlib\\axis.py\", line 1063, in <listcomp>\n",
      "    return ([tick.label1.get_window_extent(renderer)\n",
      "  File \"C:\\Users\\o27470398\\Anaconda3\\envs\\quantopy-dev\\lib\\site-packages\\matplotlib\\text.py\", line 905, in get_window_extent\n",
      "    x, y = self.get_transform().transform((x, y))\n",
      "  File \"C:\\Users\\o27470398\\Anaconda3\\envs\\quantopy-dev\\lib\\site-packages\\matplotlib\\transforms.py\", line 1470, in transform\n",
      "    res = self.transform_affine(self.transform_non_affine(values))\n",
      "  File \"C:\\Users\\o27470398\\Anaconda3\\envs\\quantopy-dev\\lib\\site-packages\\matplotlib\\transforms.py\", line 2379, in transform_affine\n",
      "    return self.get_affine().transform(points)\n",
      "  File \"C:\\Users\\o27470398\\Anaconda3\\envs\\quantopy-dev\\lib\\site-packages\\matplotlib\\transforms.py\", line 2406, in get_affine\n",
      "    return Affine2D(np.dot(self._b.get_affine().get_matrix(),\n",
      "  File \"<__array_function__ internals>\", line 5, in dot\n",
      "KeyboardInterrupt\n",
      "\n",
      "During handling of the above exception, another exception occurred:\n",
      "\n",
      "Traceback (most recent call last):\n",
      "  File \"C:\\Users\\o27470398\\Anaconda3\\envs\\quantopy-dev\\lib\\site-packages\\IPython\\core\\interactiveshell.py\", line 2061, in showtraceback\n",
      "    stb = value._render_traceback_()\n",
      "AttributeError: 'KeyboardInterrupt' object has no attribute '_render_traceback_'\n",
      "\n",
      "During handling of the above exception, another exception occurred:\n",
      "\n",
      "Traceback (most recent call last):\n",
      "  File \"C:\\Users\\o27470398\\Anaconda3\\envs\\quantopy-dev\\lib\\site-packages\\IPython\\core\\ultratb.py\", line 1101, in get_records\n",
      "    return _fixed_getinnerframes(etb, number_of_lines_of_context, tb_offset)\n",
      "  File \"C:\\Users\\o27470398\\Anaconda3\\envs\\quantopy-dev\\lib\\site-packages\\IPython\\core\\ultratb.py\", line 248, in wrapped\n",
      "    return f(*args, **kwargs)\n",
      "  File \"C:\\Users\\o27470398\\Anaconda3\\envs\\quantopy-dev\\lib\\site-packages\\IPython\\core\\ultratb.py\", line 281, in _fixed_getinnerframes\n",
      "    records = fix_frame_records_filenames(inspect.getinnerframes(etb, context))\n",
      "  File \"C:\\Users\\o27470398\\Anaconda3\\envs\\quantopy-dev\\lib\\inspect.py\", line 1503, in getinnerframes\n",
      "    frameinfo = (tb.tb_frame,) + getframeinfo(tb, context)\n",
      "  File \"C:\\Users\\o27470398\\Anaconda3\\envs\\quantopy-dev\\lib\\inspect.py\", line 1461, in getframeinfo\n",
      "    filename = getsourcefile(frame) or getfile(frame)\n",
      "  File \"C:\\Users\\o27470398\\Anaconda3\\envs\\quantopy-dev\\lib\\inspect.py\", line 708, in getsourcefile\n",
      "    if getattr(getmodule(object, filename), '__loader__', None) is not None:\n",
      "  File \"C:\\Users\\o27470398\\Anaconda3\\envs\\quantopy-dev\\lib\\inspect.py\", line 754, in getmodule\n",
      "    os.path.realpath(f)] = module.__name__\n",
      "  File \"C:\\Users\\o27470398\\Anaconda3\\envs\\quantopy-dev\\lib\\ntpath.py\", line 664, in realpath\n",
      "    if _getfinalpathname(spath) == path:\n",
      "KeyboardInterrupt\n"
     ]
    }
   ],
   "source": [
    "rs.plot.bar(title='Stock Returns')"
   ]
  },
  {
   "source": [
    "## Calculate Standard Deviation of returns"
   ],
   "cell_type": "markdown",
   "metadata": {}
  },
  {
   "cell_type": "code",
   "execution_count": 7,
   "metadata": {},
   "outputs": [
    {
     "output_type": "execute_result",
     "data": {
      "text/plain": [
       "stock_1    0.028121\n",
       "stock_2    0.061413\n",
       "dtype: float64"
      ]
     },
     "metadata": {},
     "execution_count": 7
    }
   ],
   "source": [
    "rs.std()"
   ]
  },
  {
   "source": [
    "## Calculate Mean of the returns"
   ],
   "cell_type": "markdown",
   "metadata": {}
  },
  {
   "source": [
    "rs_per_month = qp.returns.gmean(rs)"
   ],
   "cell_type": "code",
   "metadata": {},
   "execution_count": 9,
   "outputs": []
  },
  {
   "source": [
    "## Annualization"
   ],
   "cell_type": "markdown",
   "metadata": {}
  },
  {
   "source": [
    "## Annual Rate of Return"
   ],
   "cell_type": "markdown",
   "metadata": {}
  },
  {
   "cell_type": "code",
   "execution_count": 10,
   "metadata": {},
   "outputs": [
    {
     "output_type": "execute_result",
     "data": {
      "text/plain": [
       "stock_1    0.785564\n",
       "stock_2    1.139940\n",
       "dtype: float64"
      ]
     },
     "metadata": {},
     "execution_count": 10
    }
   ],
   "source": [
    "qp.returns.effect(rs_per_month, qp.periods.Period.MONTHLY)"
   ]
  },
  {
   "source": [
    "## Annual Volatility"
   ],
   "cell_type": "markdown",
   "metadata": {}
  },
  {
   "cell_type": "code",
   "execution_count": 11,
   "metadata": {},
   "outputs": [
    {
     "output_type": "execute_result",
     "data": {
      "text/plain": [
       "stock_1    0.097414\n",
       "stock_2    0.212741\n",
       "dtype: float64"
      ]
     },
     "metadata": {},
     "execution_count": 11
    }
   ],
   "source": [
    "qp.returns.effect_vol(rs.std(), qp.periods.Period.MONTHLY)"
   ]
  }
 ]
}