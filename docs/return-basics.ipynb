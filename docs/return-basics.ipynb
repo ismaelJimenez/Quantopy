{
 "metadata": {
  "language_info": {
   "codemirror_mode": {
    "name": "ipython",
    "version": 3
   },
   "file_extension": ".py",
   "mimetype": "text/x-python",
   "name": "python",
   "nbconvert_exporter": "python",
   "pygments_lexer": "ipython3",
   "version": "3.9.4"
  },
  "orig_nbformat": 2,
  "kernelspec": {
   "name": "python394jvsc74a57bd06b3f868953e4882dc560d4cfc2ef0d42a0206b45f1f39ebfdb8637365b969997",
   "display_name": "Python 3.9.4 64-bit ('quantopy-dev': conda)"
  },
  "metadata": {
   "interpreter": {
    "hash": "6b3f868953e4882dc560d4cfc2ef0d42a0206b45f1f39ebfdb8637365b969997"
   }
  }
 },
 "nbformat": 4,
 "nbformat_minor": 2,
 "cells": [
  {
   "cell_type": "code",
   "execution_count": 1,
   "metadata": {},
   "outputs": [],
   "source": [
    "import numpy as np\n",
    "import pandas as pd\n",
    "\n",
    "from quantopy import returns, simulate"
   ]
  },
  {
   "cell_type": "code",
   "execution_count": 2,
   "metadata": {},
   "outputs": [
    {
     "output_type": "stream",
     "name": "stdout",
     "text": [
      "[1.00000000e+00 1.02764052e+00 1.04202911e+00 ... 1.27009509e+04\n 1.26822029e+04 1.27636082e+04]\n"
     ]
    }
   ],
   "source": [
    "np.random.seed(0)\n",
    "\n",
    "# Generate price for 2 stocks\n",
    "stock_1_price = simulate.stock_price(0.01, 0.01, 1000)\n",
    "stock_2_price = simulate.stock_price(0.01, 0.10, 1000)\n",
    "\n",
    "print(stock_1_price)"
   ]
  },
  {
   "cell_type": "code",
   "execution_count": 3,
   "metadata": {},
   "outputs": [
    {
     "output_type": "execute_result",
     "data": {
      "text/plain": [
       "    stock_1   stock_2\n",
       "0  1.000000  1.000000\n",
       "1  1.027641  1.065596\n",
       "2  1.042029  1.171354\n",
       "3  1.062648  1.133599\n",
       "4  1.097087  1.156806"
      ],
      "text/html": "<div>\n<style scoped>\n    .dataframe tbody tr th:only-of-type {\n        vertical-align: middle;\n    }\n\n    .dataframe tbody tr th {\n        vertical-align: top;\n    }\n\n    .dataframe thead th {\n        text-align: right;\n    }\n</style>\n<table border=\"1\" class=\"dataframe\">\n  <thead>\n    <tr style=\"text-align: right;\">\n      <th></th>\n      <th>stock_1</th>\n      <th>stock_2</th>\n    </tr>\n  </thead>\n  <tbody>\n    <tr>\n      <th>0</th>\n      <td>1.000000</td>\n      <td>1.000000</td>\n    </tr>\n    <tr>\n      <th>1</th>\n      <td>1.027641</td>\n      <td>1.065596</td>\n    </tr>\n    <tr>\n      <th>2</th>\n      <td>1.042029</td>\n      <td>1.171354</td>\n    </tr>\n    <tr>\n      <th>3</th>\n      <td>1.062648</td>\n      <td>1.133599</td>\n    </tr>\n    <tr>\n      <th>4</th>\n      <td>1.097087</td>\n      <td>1.156806</td>\n    </tr>\n  </tbody>\n</table>\n</div>"
     },
     "metadata": {},
     "execution_count": 3
    }
   ],
   "source": [
    "prices = pd.DataFrame({\n",
    "    'stock_1': stock_1_price,\n",
    "    'stock_2': stock_2_price\n",
    "})\n",
    "\n",
    "prices.head()"
   ]
  },
  {
   "cell_type": "code",
   "execution_count": 4,
   "metadata": {},
   "outputs": [
    {
     "output_type": "execute_result",
     "data": {
      "text/plain": [
       "    stock_1   stock_2\n",
       "1  0.027641  0.065596\n",
       "2  0.014002  0.099247\n",
       "3  0.019787 -0.032231\n",
       "4  0.032409  0.020471\n",
       "5  0.028676  0.032805"
      ],
      "text/html": "<div>\n<style scoped>\n    .dataframe tbody tr th:only-of-type {\n        vertical-align: middle;\n    }\n\n    .dataframe tbody tr th {\n        vertical-align: top;\n    }\n\n    .dataframe thead th {\n        text-align: right;\n    }\n</style>\n<table border=\"1\" class=\"dataframe\">\n  <thead>\n    <tr style=\"text-align: right;\">\n      <th></th>\n      <th>stock_1</th>\n      <th>stock_2</th>\n    </tr>\n  </thead>\n  <tbody>\n    <tr>\n      <th>1</th>\n      <td>0.027641</td>\n      <td>0.065596</td>\n    </tr>\n    <tr>\n      <th>2</th>\n      <td>0.014002</td>\n      <td>0.099247</td>\n    </tr>\n    <tr>\n      <th>3</th>\n      <td>0.019787</td>\n      <td>-0.032231</td>\n    </tr>\n    <tr>\n      <th>4</th>\n      <td>0.032409</td>\n      <td>0.020471</td>\n    </tr>\n    <tr>\n      <th>5</th>\n      <td>0.028676</td>\n      <td>0.032805</td>\n    </tr>\n  </tbody>\n</table>\n</div>"
     },
     "metadata": {},
     "execution_count": 4
    }
   ],
   "source": [
    "rs = returns.returns(prices)\n",
    "\n",
    "rs.head()"
   ]
  },
  {
   "cell_type": "code",
   "execution_count": null,
   "metadata": {},
   "outputs": [],
   "source": []
  }
 ]
}